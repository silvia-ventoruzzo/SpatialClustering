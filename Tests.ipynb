{
 "cells": [
  {
   "cell_type": "code",
   "execution_count": null,
   "metadata": {},
   "outputs": [],
   "source": [
    "import numpy as np, pandas as pd, matplotlib.pyplot as plt, seaborn as sns\n",
    "import geopandas as gpd, geoviews as gv, geoplot as gplot\n",
    "import warnings, random\n",
    "sns.set_style('whitegrid')\n",
    "%matplotlib inline"
   ]
  },
  {
   "cell_type": "code",
   "execution_count": null,
   "metadata": {},
   "outputs": [],
   "source": [
    "polygons = gpd.read_file('station_polygons.geojson')\n",
    "gplot.polyplot(polygons)\n",
    "plt.show()"
   ]
  },
  {
   "cell_type": "code",
   "execution_count": null,
   "metadata": {},
   "outputs": [],
   "source": [
    "stations = pd.read_table('Metadaten_Geographie_alle_stationen.txt', sep=';')\n",
    "stations.rename(columns={'Stations_id': 'station_id', 'Stationsname': 'station_name', 'Stationshoehe': 'station_height',\n",
    "                        'Geogr.Breite':'lat', 'Geogr.Laenge':'lon'},\n",
    "               inplace=True)\n",
    "stations['station_id'] = stations['station_id'].astype('str').str.rjust(5, '0')\n",
    "stations = stations[stations['station_id'].isin(polygons['station_id'])]\n",
    "stations = stations.groupby(['station_id', 'station_name'])[['station_height', 'lat', 'lon']].mean()\n",
    "stations = gpd.GeoDataFrame(stations, geometry=gpd.points_from_xy(stations['lat'], stations['lon']))\n",
    "stations.head()"
   ]
  },
  {
   "cell_type": "code",
   "execution_count": null,
   "metadata": {
    "scrolled": true
   },
   "outputs": [],
   "source": [
    "weather = pd.read_table('weather_data.txt', sep=';')\n",
    "weather['station_id'] = weather['station_id'].astype('str').str.rjust(5, '0')\n",
    "weather.set_index(['station_id', 'measurement_date'], inplace=True)\n",
    "weather.head()"
   ]
  },
  {
   "cell_type": "code",
   "execution_count": null,
   "metadata": {},
   "outputs": [],
   "source": []
  },
  {
   "cell_type": "markdown",
   "metadata": {},
   "source": [
    "# BootstrapClustGeo"
   ]
  },
  {
   "cell_type": "code",
   "execution_count": null,
   "metadata": {},
   "outputs": [],
   "source": [
    "X = weather[['temperature_c', 'sunshine_h', 'precipitation_mm']]\\\n",
    "        [weather.index.get_level_values('measurement_date') == '2015-01-01'].\\\n",
    "        droplevel(1)\n",
    "X"
   ]
  },
  {
   "cell_type": "code",
   "execution_count": null,
   "metadata": {},
   "outputs": [],
   "source": [
    "X = stations.join(X, how='inner')"
   ]
  }
 ],
 "metadata": {
  "kernelspec": {
   "display_name": "Python 3",
   "language": "python",
   "name": "python3"
  },
  "language_info": {
   "codemirror_mode": {
    "name": "ipython",
    "version": 3
   },
   "file_extension": ".py",
   "mimetype": "text/x-python",
   "name": "python",
   "nbconvert_exporter": "python",
   "pygments_lexer": "ipython3",
   "version": "3.7.4"
  }
 },
 "nbformat": 4,
 "nbformat_minor": 2
}
